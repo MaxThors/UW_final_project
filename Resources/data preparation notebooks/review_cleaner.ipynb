{
 "cells": [
  {
   "cell_type": "code",
<<<<<<< Updated upstream
   "execution_count": 3,
=======
<<<<<<< Updated upstream
   "execution_count": 1,
=======
<<<<<<< Updated upstream
   "execution_count": 3,
=======
   "execution_count": 6,
>>>>>>> Stashed changes
>>>>>>> Stashed changes
>>>>>>> Stashed changes
   "metadata": {},
   "outputs": [
    {
     "data": {
      "text/html": [
       "<div>\n",
       "<style scoped>\n",
       "    .dataframe tbody tr th:only-of-type {\n",
       "        vertical-align: middle;\n",
       "    }\n",
       "\n",
       "    .dataframe tbody tr th {\n",
       "        vertical-align: top;\n",
       "    }\n",
       "\n",
       "    .dataframe thead th {\n",
       "        text-align: right;\n",
       "    }\n",
       "</style>\n",
       "<table border=\"1\" class=\"dataframe\">\n",
       "  <thead>\n",
       "    <tr style=\"text-align: right;\">\n",
       "      <th></th>\n",
       "      <th>brand</th>\n",
       "      <th>key</th>\n",
       "      <th>author</th>\n",
       "      <th>date</th>\n",
       "      <th>stars</th>\n",
       "      <th>title</th>\n",
       "      <th>helpful_yes</th>\n",
       "      <th>helpful_no</th>\n",
       "      <th>text</th>\n",
       "      <th>taste</th>\n",
       "      <th>ingredients</th>\n",
       "      <th>texture</th>\n",
       "      <th>likes</th>\n",
       "    </tr>\n",
       "  </thead>\n",
       "  <tbody>\n",
       "    <tr>\n",
       "      <th>0</th>\n",
       "      <td>bj</td>\n",
       "      <td>0_bj</td>\n",
       "      <td>Ilovebennjerry</td>\n",
       "      <td>2017-04-15</td>\n",
       "      <td>3</td>\n",
       "      <td>Not enough brownies!</td>\n",
       "      <td>10.0</td>\n",
       "      <td>3.0</td>\n",
       "      <td>Super good, don't get me wrong. But I came for...</td>\n",
       "      <td>NaN</td>\n",
       "      <td>NaN</td>\n",
       "      <td>NaN</td>\n",
       "      <td>NaN</td>\n",
       "    </tr>\n",
       "    <tr>\n",
       "      <th>1</th>\n",
       "      <td>bj</td>\n",
       "      <td>0_bj</td>\n",
       "      <td>Sweettooth909</td>\n",
       "      <td>2020-01-05</td>\n",
       "      <td>5</td>\n",
       "      <td>I’m OBSESSED with this pint!</td>\n",
       "      <td>3.0</td>\n",
       "      <td>0.0</td>\n",
       "      <td>I decided to try it out although I’m not a hug...</td>\n",
       "      <td>NaN</td>\n",
       "      <td>NaN</td>\n",
       "      <td>NaN</td>\n",
       "      <td>NaN</td>\n",
       "    </tr>\n",
       "    <tr>\n",
       "      <th>2</th>\n",
       "      <td>bj</td>\n",
       "      <td>0_bj</td>\n",
       "      <td>LaTanga71</td>\n",
       "      <td>2018-04-26</td>\n",
       "      <td>3</td>\n",
       "      <td>My favorite...More Caramel Please</td>\n",
       "      <td>5.0</td>\n",
       "      <td>2.0</td>\n",
       "      <td>My caramel core begins to disappear about half...</td>\n",
       "      <td>NaN</td>\n",
       "      <td>NaN</td>\n",
       "      <td>NaN</td>\n",
       "      <td>NaN</td>\n",
       "    </tr>\n",
       "    <tr>\n",
       "      <th>3</th>\n",
       "      <td>bj</td>\n",
       "      <td>0_bj</td>\n",
       "      <td>chicago220</td>\n",
       "      <td>2018-01-14</td>\n",
       "      <td>5</td>\n",
       "      <td>Obsessed!!!</td>\n",
       "      <td>24.0</td>\n",
       "      <td>1.0</td>\n",
       "      <td>Why are people complaining about the blonde br...</td>\n",
       "      <td>NaN</td>\n",
       "      <td>NaN</td>\n",
       "      <td>NaN</td>\n",
       "      <td>NaN</td>\n",
       "    </tr>\n",
       "    <tr>\n",
       "      <th>4</th>\n",
       "      <td>bj</td>\n",
       "      <td>0_bj</td>\n",
       "      <td>Kassidyk</td>\n",
       "      <td>2020-07-24</td>\n",
       "      <td>1</td>\n",
       "      <td>Worst Ice Cream Ever!</td>\n",
       "      <td>1.0</td>\n",
       "      <td>5.0</td>\n",
       "      <td>This ice cream is worst ice cream I’ve ever ta...</td>\n",
       "      <td>NaN</td>\n",
       "      <td>NaN</td>\n",
       "      <td>NaN</td>\n",
       "      <td>NaN</td>\n",
       "    </tr>\n",
       "  </tbody>\n",
       "</table>\n",
       "</div>"
      ],
      "text/plain": [
       "  brand   key          author        date  stars  \\\n",
       "0    bj  0_bj  Ilovebennjerry  2017-04-15      3   \n",
       "1    bj  0_bj   Sweettooth909  2020-01-05      5   \n",
       "2    bj  0_bj       LaTanga71  2018-04-26      3   \n",
       "3    bj  0_bj      chicago220  2018-01-14      5   \n",
       "4    bj  0_bj        Kassidyk  2020-07-24      1   \n",
       "\n",
       "                               title  helpful_yes  helpful_no  \\\n",
       "0               Not enough brownies!         10.0         3.0   \n",
       "1       I’m OBSESSED with this pint!          3.0         0.0   \n",
       "2  My favorite...More Caramel Please          5.0         2.0   \n",
       "3                        Obsessed!!!         24.0         1.0   \n",
       "4              Worst Ice Cream Ever!          1.0         5.0   \n",
       "\n",
       "                                                text  taste  ingredients  \\\n",
       "0  Super good, don't get me wrong. But I came for...    NaN          NaN   \n",
       "1  I decided to try it out although I’m not a hug...    NaN          NaN   \n",
       "2  My caramel core begins to disappear about half...    NaN          NaN   \n",
       "3  Why are people complaining about the blonde br...    NaN          NaN   \n",
       "4  This ice cream is worst ice cream I’ve ever ta...    NaN          NaN   \n",
       "\n",
       "   texture likes  \n",
       "0      NaN   NaN  \n",
       "1      NaN   NaN  \n",
       "2      NaN   NaN  \n",
       "3      NaN   NaN  \n",
       "4      NaN   NaN  "
      ]
     },
<<<<<<< Updated upstream
     "execution_count": 3,
=======
<<<<<<< Updated upstream
     "execution_count": 1,
=======
<<<<<<< Updated upstream
     "execution_count": 3,
=======
     "execution_count": 6,
>>>>>>> Stashed changes
>>>>>>> Stashed changes
>>>>>>> Stashed changes
     "metadata": {},
     "output_type": "execute_result"
    }
   ],
   "source": [
    "import pandas as pd\n",
    "\n",
    "df = pd.read_csv(\"Resources/reviews.csv\")\n",
    "df.head()"
   ]
  },
  {
   "cell_type": "code",
<<<<<<< Updated upstream
   "execution_count": 4,
=======
<<<<<<< Updated upstream
   "execution_count": 2,
=======
<<<<<<< Updated upstream
   "execution_count": 4,
=======
   "execution_count": 7,
>>>>>>> Stashed changes
>>>>>>> Stashed changes
>>>>>>> Stashed changes
   "metadata": {},
   "outputs": [],
   "source": [
    "df.drop(['brand','author','date','title','taste','ingredients','texture','likes'], axis=1, inplace=True)"
   ]
  },
  {
   "cell_type": "code",
<<<<<<< Updated upstream
   "execution_count": 5,
=======
<<<<<<< Updated upstream
   "execution_count": 3,
=======
<<<<<<< Updated upstream
   "execution_count": 5,
=======
   "execution_count": 8,
>>>>>>> Stashed changes
>>>>>>> Stashed changes
>>>>>>> Stashed changes
   "metadata": {},
   "outputs": [],
   "source": [
    "df['text'] = df['text'].replace({'\\n':' '},regex=True)\n",
    "df['text'] = df['text'].replace({'\\'':''},regex=True)"
   ]
  },
  {
   "cell_type": "code",
<<<<<<< Updated upstream
   "execution_count": 6,
=======
<<<<<<< Updated upstream
   "execution_count": 4,
>>>>>>> Stashed changes
   "metadata": {},
   "outputs": [],
   "source": [
    "df_helpful = df[df['helpful_yes'] > df['helpful_no']]"
=======
<<<<<<< Updated upstream
   "execution_count": 6,
=======
   "execution_count": 9,
>>>>>>> Stashed changes
   "metadata": {},
   "outputs": [],
   "source": [
    "df_helpful = df[df['helpful_yes'] > df['helpful_no']]\n"
>>>>>>> Stashed changes
   ]
  },
  {
   "cell_type": "code",
<<<<<<< Updated upstream
   "execution_count": 7,
=======
<<<<<<< Updated upstream
   "execution_count": 5,
=======
<<<<<<< Updated upstream
   "execution_count": 7,
=======
   "execution_count": 10,
   "metadata": {},
   "outputs": [
    {
     "data": {
      "text/html": [
       "<div>\n",
       "<style scoped>\n",
       "    .dataframe tbody tr th:only-of-type {\n",
       "        vertical-align: middle;\n",
       "    }\n",
       "\n",
       "    .dataframe tbody tr th {\n",
       "        vertical-align: top;\n",
       "    }\n",
       "\n",
       "    .dataframe thead th {\n",
       "        text-align: right;\n",
       "    }\n",
       "</style>\n",
       "<table border=\"1\" class=\"dataframe\">\n",
       "  <thead>\n",
       "    <tr style=\"text-align: right;\">\n",
       "      <th></th>\n",
       "      <th>key</th>\n",
       "      <th>stars</th>\n",
       "      <th>helpful_yes</th>\n",
       "      <th>helpful_no</th>\n",
       "      <th>text</th>\n",
       "    </tr>\n",
       "  </thead>\n",
       "  <tbody>\n",
       "    <tr>\n",
       "      <th>0</th>\n",
       "      <td>0_bj</td>\n",
       "      <td>3</td>\n",
       "      <td>10.0</td>\n",
       "      <td>3.0</td>\n",
       "      <td>Super good, dont get me wrong. But I came for ...</td>\n",
       "    </tr>\n",
       "    <tr>\n",
       "      <th>1</th>\n",
       "      <td>0_bj</td>\n",
       "      <td>5</td>\n",
       "      <td>3.0</td>\n",
       "      <td>0.0</td>\n",
       "      <td>I decided to try it out although I’m not a hug...</td>\n",
       "    </tr>\n",
       "    <tr>\n",
       "      <th>2</th>\n",
       "      <td>0_bj</td>\n",
       "      <td>3</td>\n",
       "      <td>5.0</td>\n",
       "      <td>2.0</td>\n",
       "      <td>My caramel core begins to disappear about half...</td>\n",
       "    </tr>\n",
       "    <tr>\n",
       "      <th>3</th>\n",
       "      <td>0_bj</td>\n",
       "      <td>5</td>\n",
       "      <td>24.0</td>\n",
       "      <td>1.0</td>\n",
       "      <td>Why are people complaining about the blonde br...</td>\n",
       "    </tr>\n",
       "    <tr>\n",
       "      <th>5</th>\n",
       "      <td>0_bj</td>\n",
       "      <td>2</td>\n",
       "      <td>3.0</td>\n",
       "      <td>1.0</td>\n",
       "      <td>I bought this last night to go with Louisiana ...</td>\n",
       "    </tr>\n",
       "  </tbody>\n",
       "</table>\n",
       "</div>"
      ],
      "text/plain": [
       "    key  stars  helpful_yes  helpful_no  \\\n",
       "0  0_bj      3         10.0         3.0   \n",
       "1  0_bj      5          3.0         0.0   \n",
       "2  0_bj      3          5.0         2.0   \n",
       "3  0_bj      5         24.0         1.0   \n",
       "5  0_bj      2          3.0         1.0   \n",
       "\n",
       "                                                text  \n",
       "0  Super good, dont get me wrong. But I came for ...  \n",
       "1  I decided to try it out although I’m not a hug...  \n",
       "2  My caramel core begins to disappear about half...  \n",
       "3  Why are people complaining about the blonde br...  \n",
       "5  I bought this last night to go with Louisiana ...  "
      ]
     },
     "execution_count": 10,
     "metadata": {},
     "output_type": "execute_result"
    }
   ],
   "source": [
    "# viewing\n",
    "df_helpful.head()"
   ]
  },
  {
   "cell_type": "code",
   "execution_count": 11,
>>>>>>> Stashed changes
>>>>>>> Stashed changes
>>>>>>> Stashed changes
   "metadata": {},
   "outputs": [],
   "source": [
    "df_helpful.to_csv(\"Resources/clean_reviews.csv\", index=False)"
   ]
  }
 ],
 "metadata": {
  "kernelspec": {
   "display_name": "PythonData",
   "language": "python",
   "name": "pythondata"
  },
  "language_info": {
   "codemirror_mode": {
    "name": "ipython",
    "version": 3
   },
   "file_extension": ".py",
   "mimetype": "text/x-python",
   "name": "python",
   "nbconvert_exporter": "python",
   "pygments_lexer": "ipython3",
   "version": "3.7.9"
  }
 },
 "nbformat": 4,
 "nbformat_minor": 4
}
