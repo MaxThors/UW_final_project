{
 "cells": [
  {
   "cell_type": "code",
   "execution_count": 1,
   "metadata": {},
   "outputs": [
    {
     "name": "stderr",
     "output_type": "stream",
     "text": [
      "[nltk_data] Downloading package stopwords to\n",
      "[nltk_data]     C:\\Users\\wrenn\\AppData\\Roaming\\nltk_data...\n",
      "[nltk_data]   Package stopwords is already up-to-date!\n"
     ]
    }
   ],
   "source": [
    "import nltk\n",
    "nltk.download('stopwords')\n",
    "from nltk.corpus import stopwords"
   ]
  },
  {
   "cell_type": "code",
   "execution_count": 2,
   "metadata": {},
   "outputs": [
    {
     "name": "stdout",
     "output_type": "stream",
     "text": [
      "['i', 'me', 'my', 'myself', 'we', 'our', 'ours', 'ourselves', 'you', \"you're\", \"you've\", \"you'll\", \"you'd\", 'your', 'yours', 'yourself', 'yourselves', 'he', 'him', 'his', 'himself', 'she', \"she's\", 'her', 'hers', 'herself', 'it', \"it's\", 'its', 'itself', 'they', 'them', 'their', 'theirs', 'themselves', 'what', 'which', 'who', 'whom', 'this', 'that', \"that'll\", 'these', 'those', 'am', 'is', 'are', 'was', 'were', 'be', 'been', 'being', 'have', 'has', 'had', 'having', 'do', 'does', 'did', 'doing', 'a', 'an', 'the', 'and', 'but', 'if', 'or', 'because', 'as', 'until', 'while', 'of', 'at', 'by', 'for', 'with', 'about', 'against', 'between', 'into', 'through', 'during', 'before', 'after', 'above', 'below', 'to', 'from', 'up', 'down', 'in', 'out', 'on', 'off', 'over', 'under', 'again', 'further', 'then', 'once', 'here', 'there', 'when', 'where', 'why', 'how', 'all', 'any', 'both', 'each', 'few', 'more', 'most', 'other', 'some', 'such', 'no', 'nor', 'not', 'only', 'own', 'same', 'so', 'than', 'too', 'very', 's', 't', 'can', 'will', 'just', 'don', \"don't\", 'should', \"should've\", 'now', 'd', 'll', 'm', 'o', 're', 've', 'y', 'ain', 'aren', \"aren't\", 'couldn', \"couldn't\", 'didn', \"didn't\", 'doesn', \"doesn't\", 'hadn', \"hadn't\", 'hasn', \"hasn't\", 'haven', \"haven't\", 'isn', \"isn't\", 'ma', 'mightn', \"mightn't\", 'mustn', \"mustn't\", 'needn', \"needn't\", 'shan', \"shan't\", 'shouldn', \"shouldn't\", 'wasn', \"wasn't\", 'weren', \"weren't\", 'won', \"won't\", 'wouldn', \"wouldn't\"]\n"
     ]
    }
   ],
   "source": [
    "print(stopwords.words('english'))"
   ]
  },
  {
   "cell_type": "code",
   "execution_count": 3,
   "metadata": {},
   "outputs": [],
   "source": [
    "new_stopwords = [\"aftertaste\", 'alcohol', 'almond', 'apple', 'artificial', 'bailey', 'banana', 'bean', 'berry', 'bitter', 'blackberry', 'bland', 'bourbon',\n",
    "                'brew', 'brownie', 'bun', 'butter', 'buttery', 'cacao', 'cake', 'candy', 'caramel', 'carmel', 'cheesecake', 'chemical', 'cherry',\n",
    "                'chewy', 'chip', 'choc', 'chocolate', 'chocolatey', 'chocolaty', 'chunk', 'chunky', 'cinnamon', 'cocoa', 'coconut', 'coffee',\n",
    "                'cone', 'consistency', 'cookie', 'cooky', 'core', 'corn', 'cracker', 'creaminess', 'creamy', 'crispy', 'crumb', 'crunch', 'crunchy',\n",
    "                'crust', 'dairy', 'dense', 'dough', 'dulce', 'egg', 'espresso', 'flake', 'flavor', 'flavored', 'flavoring', 'fruit', 'fudge', 'gooey', 'graham', 'gritty',\n",
    "                'gum', 'hazelnut', 'honey', 'icy', 'ingredient', 'lactose', 'leche', 'lemon', 'mango', 'marshmallow', 'matcha', 'milk', 'mint', \n",
    "                'minty', 'oat', 'oatmeal', 'oreo', 'pb', 'peanut', 'pecan', 'peppermint', 'pie', 'pistachio', 'potato', 'pretzel', 'pumpkin', 'rasin', \n",
    "                'raspberry', 'rich', 'rum', 'salt', 'salted', 'salty', 'smooth', 'smore', 'smores', 'snicker', 'soft', 'sour', 'soy', 'spice',\n",
    "                'spicy', 'strawberry', 'sugar', 'sweet', 'sweetener', 'sweetness', 'swirl', 'swirled', 'syrup', 'tart', 'tea', 'texture', \n",
    "                'toasted', 'toffee', 'truffle', 'turkey', 'vanilla', 'vegan', 'vegetable', 'waffle', 'walnut']"
   ]
  },
  {
   "cell_type": "code",
   "execution_count": 5,
   "metadata": {},
   "outputs": [],
   "source": [
    "stpwrd = nltk.corpus.stopwords.words('english')\n",
    "stpwrd.extend(new_stopwords)"
   ]
  },
  {
   "cell_type": "code",
   "execution_count": 6,
   "metadata": {},
   "outputs": [
    {
     "name": "stdout",
     "output_type": "stream",
     "text": [
      "['i', 'me', 'my', 'myself', 'we', 'our', 'ours', 'ourselves', 'you', \"you're\", \"you've\", \"you'll\", \"you'd\", 'your', 'yours', 'yourself', 'yourselves', 'he', 'him', 'his', 'himself', 'she', \"she's\", 'her', 'hers', 'herself', 'it', \"it's\", 'its', 'itself', 'they', 'them', 'their', 'theirs', 'themselves', 'what', 'which', 'who', 'whom', 'this', 'that', \"that'll\", 'these', 'those', 'am', 'is', 'are', 'was', 'were', 'be', 'been', 'being', 'have', 'has', 'had', 'having', 'do', 'does', 'did', 'doing', 'a', 'an', 'the', 'and', 'but', 'if', 'or', 'because', 'as', 'until', 'while', 'of', 'at', 'by', 'for', 'with', 'about', 'against', 'between', 'into', 'through', 'during', 'before', 'after', 'above', 'below', 'to', 'from', 'up', 'down', 'in', 'out', 'on', 'off', 'over', 'under', 'again', 'further', 'then', 'once', 'here', 'there', 'when', 'where', 'why', 'how', 'all', 'any', 'both', 'each', 'few', 'more', 'most', 'other', 'some', 'such', 'no', 'nor', 'not', 'only', 'own', 'same', 'so', 'than', 'too', 'very', 's', 't', 'can', 'will', 'just', 'don', \"don't\", 'should', \"should've\", 'now', 'd', 'll', 'm', 'o', 're', 've', 'y', 'ain', 'aren', \"aren't\", 'couldn', \"couldn't\", 'didn', \"didn't\", 'doesn', \"doesn't\", 'hadn', \"hadn't\", 'hasn', \"hasn't\", 'haven', \"haven't\", 'isn', \"isn't\", 'ma', 'mightn', \"mightn't\", 'mustn', \"mustn't\", 'needn', \"needn't\", 'shan', \"shan't\", 'shouldn', \"shouldn't\", 'wasn', \"wasn't\", 'weren', \"weren't\", 'won', \"won't\", 'wouldn', \"wouldn't\", 'aftertaste', 'alcohol', 'almond', 'apple', 'artificial', 'bailey', 'banana', 'bean', 'berry', 'bitter', 'blackberry', 'bland', 'bourbon', 'brew', 'brownie', 'bun', 'butter', 'buttery', 'cacao', 'cake', 'candy', 'caramel', 'carmel', 'cheesecake', 'chemical', 'cherry', 'chewy', 'chip', 'choc', 'chocolate', 'chocolatey', 'chocolaty', 'chunk', 'chunky', 'cinnamon', 'cocoa', 'coconut', 'coffee', 'cone', 'consistency', 'cookie', 'cooky', 'core', 'corn', 'cracker', 'creaminess', 'creamy', 'crispy', 'crumb', 'crunch', 'crunchy', 'crust', 'dairy', 'dense', 'dough', 'dulce', 'egg', 'espresso', 'flake', 'flavor', 'flavored', 'flavoring', 'fruit', 'fudge', 'gooey', 'graham', 'gritty', 'gum', 'hazelnut', 'honey', 'icy', 'ingredient', 'lactose', 'leche', 'lemon', 'mango', 'marshmallow', 'matcha', 'milk', 'mint', 'minty', 'oat', 'oatmeal', 'oreo', 'pb', 'peanut', 'pecan', 'peppermint', 'pie', 'pistachio', 'potato', 'pretzel', 'pumpkin', 'rasin', 'raspberry', 'rich', 'rum', 'salt', 'salted', 'salty', 'smooth', 'smore', 'smores', 'snicker', 'soft', 'sour', 'soy', 'spice', 'spicy', 'strawberry', 'sugar', 'sweet', 'sweetener', 'sweetness', 'swirl', 'swirled', 'syrup', 'tart', 'tea', 'texture', 'toasted', 'toffee', 'truffle', 'turkey', 'vanilla', 'vegan', 'vegetable', 'waffle', 'walnut']\n"
     ]
    }
   ],
   "source": [
    "print(stpwrd)"
   ]
  },
  {
   "cell_type": "code",
   "execution_count": null,
   "metadata": {},
   "outputs": [],
   "source": []
  }
 ],
 "metadata": {
  "kernelspec": {
   "display_name": "PythonData",
   "language": "python",
   "name": "pythondata"
  },
  "language_info": {
   "codemirror_mode": {
    "name": "ipython",
    "version": 3
   },
   "file_extension": ".py",
   "mimetype": "text/x-python",
   "name": "python",
   "nbconvert_exporter": "python",
   "pygments_lexer": "ipython3",
   "version": "3.7.9"
  }
 },
 "nbformat": 4,
 "nbformat_minor": 4
}
